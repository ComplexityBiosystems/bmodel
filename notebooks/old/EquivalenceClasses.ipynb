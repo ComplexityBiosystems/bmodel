{
 "cells": [
  {
   "cell_type": "code",
   "execution_count": 1,
   "metadata": {},
   "outputs": [],
   "source": [
    "import numpy as np\n",
    "import pandas as pd\n",
    "import itertools\n",
    "import networkx"
   ]
  },
  {
   "cell_type": "code",
   "execution_count": 2,
   "metadata": {},
   "outputs": [],
   "source": [
    "import matplotlib.pyplot as plt\n",
    "%matplotlib inline\n",
    "import seaborn as sns"
   ]
  },
  {
   "cell_type": "code",
   "execution_count": 3,
   "metadata": {},
   "outputs": [],
   "source": [
    "\"\"\"\n",
    "SOURCE AND CREDIT\n",
    "https://stackoverflow.com/questions/6284396/permutations-with-unique-values\n",
    "\"\"\"\n",
    "class unique_element:\n",
    "    def __init__(self,value,occurrences):\n",
    "        self.value = value\n",
    "        self.occurrences = occurrences\n",
    "\n",
    "def perm_unique(elements):\n",
    "    eset=set(elements)\n",
    "    listunique = [unique_element(i,elements.count(i)) for i in eset]\n",
    "    u=len(elements)\n",
    "    return perm_unique_helper(listunique,[0]*u,u-1)\n",
    "\n",
    "def perm_unique_helper(listunique,result_list,d):\n",
    "    if d < 0:\n",
    "        yield tuple(result_list)\n",
    "    else:\n",
    "        for i in listunique:\n",
    "            if i.occurrences > 0:\n",
    "                result_list[d]=i.value\n",
    "                i.occurrences-=1\n",
    "                for g in  perm_unique_helper(listunique,result_list,d-1):\n",
    "                    yield g\n",
    "                i.occurrences+=1\n",
    "\n"
   ]
  },
  {
   "cell_type": "code",
   "execution_count": 4,
   "metadata": {},
   "outputs": [],
   "source": [
    "def matrix2graph(M):\n",
    "    DG = networkx.DiGraph()\n",
    "    for i, row in enumerate(M):\n",
    "        DG.add_node(i)\n",
    "        for j, element in enumerate(row):\n",
    "            if element!=0:\n",
    "                DG.add_edge(i,j, kind=element)\n",
    "    return DG"
   ]
  },
  {
   "cell_type": "code",
   "execution_count": 5,
   "metadata": {},
   "outputs": [],
   "source": [
    "def show_arr(arr, ax=None):\n",
    "    L = 1.5/4*len(arr)\n",
    "    if ax is None:\n",
    "        fig, ax = plt.subplots(1,1, figsize=(L, L))\n",
    "    ax.set_aspect(1)\n",
    "    sns.heatmap(arr, cmap=\"coolwarm\", ax=ax, vmin=-1.5, vmax=1.5, cbar=False, linecolor=\"white\", linewidths=1 )\n",
    "    ax.set_axis_off()"
   ]
  },
  {
   "cell_type": "code",
   "execution_count": 6,
   "metadata": {},
   "outputs": [],
   "source": [
    "def get_equiv_classes(n, p, m):\n",
    "    assert p+m<=n**2\n",
    "    assert p+m>=0\n",
    "    root = tuple([1]*p + [-1]*m + [0]*(n**2-p-m))\n",
    "\n",
    "    # to compare graphs with edge attributes\n",
    "    cem = networkx.isomorphism.categorical_edge_match(\"kind\", 0)\n",
    "\n",
    "    # initate list of equivalence classes\n",
    "    M = np.array(root).reshape(n, n)\n",
    "    G = matrix2graph(M)\n",
    "    EC = [[(G, M)]]\n",
    "\n",
    "    for perm in perm_unique(root):\n",
    "        if perm!=root:\n",
    "            M = np.array(perm).reshape(n, n)\n",
    "            G = matrix2graph(M)\n",
    "            found=False\n",
    "            for C in EC:\n",
    "                F, _ = C[0]\n",
    "                DiGM = networkx.isomorphism.DiGraphMatcher(F, G, edge_match=cem)\n",
    "                if DiGM.is_isomorphic():\n",
    "                    C.append([DiGM.mapping, M])\n",
    "                    found=True\n",
    "            if not found:\n",
    "                EC.append([(G, M)])\n",
    "\n",
    "    return EC\n"
   ]
  },
  {
   "cell_type": "code",
   "execution_count": 7,
   "metadata": {},
   "outputs": [],
   "source": [
    "ECs = get_equiv_classes(n=3, m=1, p=2)"
   ]
  },
  {
   "cell_type": "code",
   "execution_count": 8,
   "metadata": {},
   "outputs": [],
   "source": [
    "class_index = 34\n",
    "arr_index = 3 # >=1\n",
    "C = ECs[class_index]\n",
    "\n",
    "representative = C[0][1]\n",
    "m = C[arr_index][0]\n",
    "reorder = [m[k] for k in range(len(representative))]"
   ]
  },
  {
   "cell_type": "code",
   "execution_count": 9,
   "metadata": {},
   "outputs": [
    {
     "data": {
      "image/png": "[encoded data removed]",
      "text/plain": [
       "<matplotlib.figure.Figure at 0x7f1cbe0ba6a0>"
      ]
     },
     "metadata": {},
     "output_type": "display_data"
    }
   ],
   "source": [
    "show_arr(representative)"
   ]
  },
  {
   "cell_type": "code",
   "execution_count": 10,
   "metadata": {},
   "outputs": [
    {
     "data": {
      "image/png": "[encoded data removed]",
      "text/plain": [
       "<matplotlib.figure.Figure at 0x7f1cbe0ba860>"
      ]
     },
     "metadata": {},
     "output_type": "display_data"
    }
   ],
   "source": [
    "show_arr(C[arr_index][1])"
   ]
  },
  {
   "cell_type": "code",
   "execution_count": 11,
   "metadata": {},
   "outputs": [
    {
     "data": {
      "image/png": "[encoded data removed]",
      "text/plain": [
       "<matplotlib.figure.Figure at 0x7f1cbbf73240>"
      ]
     },
     "metadata": {},
     "output_type": "display_data"
    }
   ],
   "source": [
    "show_arr(C[arr_index][1][reorder].T[reorder].T)"
   ]
  },
  {
   "cell_type": "code",
   "execution_count": 12,
   "metadata": {},
   "outputs": [],
   "source": [
    "def matrix2string(arr):\n",
    "    return \"\".join([{0:\"o\", 1:\"p\", -1:\"m\"}[x] for x in arr.reshape(-1)])"
   ]
  },
  {
   "cell_type": "code",
   "execution_count": 13,
   "metadata": {},
   "outputs": [],
   "source": [
    "def get_reorders_dict():\n",
    "    \"\"\"\n",
    "    Generate a dictonary with matrices in keys\n",
    "    (encoded as strings via matrix2strin) and\n",
    "    col/row permutations in values.\n",
    "    \n",
    "    The col/row permutations are such that each\n",
    "    matrix is mapped to the canonical representative\n",
    "    of its equivalence class.\n",
    "    \n",
    "    \"\"\"\n",
    "    n=3\n",
    "    classes = {}\n",
    "    for p in range(0,n**2+1):\n",
    "        for m in range(0,n**2-p+1):\n",
    "            classes[(p, m)] = get_equiv_classes(n=n, m=m, p=p)\n",
    "\n",
    "    arrstring2reorder = {}\n",
    "    for cls in classes.values():\n",
    "        for cl in cls:\n",
    "            for m,arr in cl:\n",
    "                if not isinstance(m, dict):\n",
    "                    m = {x:x for x in range(n)}\n",
    "                arrstring = matrix2string(arr)\n",
    "                reorder = [m[x] for x in range(n)]\n",
    "                arrstring2reorder[arrstring] = reorder\n",
    "                \n",
    "    return arrstring2reorder"
   ]
  },
  {
   "cell_type": "code",
   "execution_count": 14,
   "metadata": {},
   "outputs": [],
   "source": [
    "reorders_dict = get_reorders_dict()"
   ]
  },
  {
   "cell_type": "code",
   "execution_count": 15,
   "metadata": {},
   "outputs": [],
   "source": [
    "df = pd.read_pickle(\"../test.p\").astype(float)"
   ]
  },
  {
   "cell_type": "code",
   "execution_count": 16,
   "metadata": {},
   "outputs": [],
   "source": [
    "J = pd.DataFrame(pd.read_pickle(\"../J.p\"))"
   ]
  },
  {
   "cell_type": "code",
   "execution_count": 22,
   "metadata": {},
   "outputs": [],
   "source": [
    "def get_canonical_and_corrs_from_ids(ids, reorders_dict):\n",
    "    n = 3\n",
    "    arrstring = matrix2string(J.loc[ids, ids].values)\n",
    "    \n",
    "    reorder = reorders_dict[arrstring]\n",
    "    canonical_arrstring = \"\".join((np.array([x for x in arrstring]).reshape(n, n)[reorder].T[reorder].T).reshape(-1))\n",
    "    corrs = df[ids[reorder]].corr()\n",
    "    \n",
    "    return canonical_arrstring, corrs, len(df[ids[reorder]].drop_duplicates())"
   ]
  },
  {
   "cell_type": "code",
   "execution_count": 25,
   "metadata": {},
   "outputs": [],
   "source": [
    "test = {}\n",
    "phis = {}\n",
    "for ids in itertools.combinations(range(len(J)),3):\n",
    "    ids = np.array(ids)\n",
    "    canonical_arrstring, corrs, phi = get_canonical_and_corrs_from_ids(ids, \n",
    "                                                                  reorders_dict)\n",
    "    x, y, z = corrs.values[0, 1], corrs.values[0, 2], corrs.values[1, 2]\n",
    "    if canonical_arrstring not in test.keys():\n",
    "        test[canonical_arrstring] = [[x, y, z]]\n",
    "        phis[canonical_arrstring] = [phi]\n",
    "    else:\n",
    "        test[canonical_arrstring].append([x, y, z])\n",
    "        phis[canonical_arrstring].append(phi)"
   ]
  },
  {
   "cell_type": "code",
   "execution_count": 59,
   "metadata": {},
   "outputs": [],
   "source": [
    "m = np.concatenate(list(phis.values())).mean()\n",
    "x, y = np.array([[[k.count(\"o\")]*len(v),v] for k,v in phis.items() if k.count(\"o\")<90]).T"
   ]
  },
  {
   "cell_type": "code",
   "execution_count": 60,
   "metadata": {},
   "outputs": [],
   "source": [
    "x = np.concatenate(x)\n",
    "y = np.concatenate(y)"
   ]
  },
  {
   "cell_type": "code",
   "execution_count": 61,
   "metadata": {},
   "outputs": [
    {
     "data": {
      "text/plain": [
       "Text(0,0.5,'Number of different steady states')"
      ]
     },
     "execution_count": 61,
     "metadata": {},
     "output_type": "execute_result"
    },
    {
     "data": {
      "image/png": "[encoded data removed]",
      "text/plain": [
       "<matplotlib.figure.Figure at 0x7f1cbb51ff60>"
      ]
     },
     "metadata": {},
     "output_type": "display_data"
    }
   ],
   "source": [
    "plt.hist2d(x, y, bins=(np.linspace(3.5, 9.5, num=7), np.linspace(2.5, 8.5, num=7)), norm=LogNorm());\n",
    "plt.xlabel(\"number of missing edges\")\n",
    "plt.ylabel(\"Number of different steady states\")"
   ]
  },
  {
   "cell_type": "code",
   "execution_count": 51,
   "metadata": {},
   "outputs": [],
   "source": [
    "from matplotlib.colors import LogNorm"
   ]
  },
  {
   "cell_type": "code",
   "execution_count": null,
   "metadata": {},
   "outputs": [],
   "source": []
  }
 ],
 "metadata": {
  "kernelspec": {
   "display_name": "Python [default]",
   "language": "python",
   "name": "python3"
  },
  "language_info": {
   "codemirror_mode": {
    "name": "ipython",
    "version": 3
   },
   "file_extension": ".py",
   "mimetype": "text/x-python",
   "name": "python",
   "nbconvert_exporter": "python",
   "pygments_lexer": "ipython3",
   "version": "3.6.4"
  }
 },
 "nbformat": 4,
 "nbformat_minor": 2
}
